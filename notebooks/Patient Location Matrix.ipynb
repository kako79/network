{
 "cells": [
  {
   "cell_type": "code",
   "execution_count": null,
   "metadata": {},
   "outputs": [],
   "source": [
    "import pandas as pd\n",
    "import numpy as np\n",
    "from random import randint\n",
    "\n",
    "\n",
    "def generate_location_data(patient_count: int, location_count: int) -> pd.DataFrame:\n",
    "    row_count = patient_count * 10\n",
    "    patient_ids = np.random.randint(1, patient_count + 1, size=row_count)\n",
    "    locations = np.array([str(chr(randint(65, 65 + patient_count - 1))) for i in range(row_count)])\n",
    "    df = pd.DataFrame()\n",
    "    df['ptid'] = pd.Series(patient_ids)\n",
    "    df['loc'] = pd.Series(locations)\n",
    "    return df.sort_values(by='ptid').reset_index(drop=True)\n",
    "\n",
    "def get_transfers(data: pd.DataFrame) -> pd.DataFrame:\n",
    "    df = data.copy()\n",
    "    df['from_loc'] = df['loc']\n",
    "    df['to_ptid'] = pd.Series(np.roll(df['ptid'].values, -1))\n",
    "    df['to_loc'] = pd.Series(np.roll(df['loc'].values, -1))\n",
    "    df = df[df['ptid'] == df['to_ptid']]\n",
    "    return df.drop(columns=['loc', 'to_ptid'])"
   ]
  },
  {
   "cell_type": "code",
   "execution_count": null,
   "metadata": {},
   "outputs": [],
   "source": [
    "locations = generate_location_data(20, 5)\n",
    "transfers = get_transfers(locations)"
   ]
  },
  {
   "cell_type": "code",
   "execution_count": null,
   "metadata": {},
   "outputs": [],
   "source": [
    "tx = transfers.copy()\n",
    "tx['transfer'] = tx['from_loc'] + ' -> ' + tx['to_loc']\n",
    "tx = tx.drop(columns=['from_loc', 'to_loc'])\n",
    "tx_sorted = tx.sort_values(by=['ptid', 'transfer']).reset_index(drop=True)\n",
    "tx_sorted['count'] = pd.Series(np.ones(shape=len(tx_sorted)))\n",
    "tx_grouped = tx_sorted.groupby(by=['ptid', 'transfer']).count()"
   ]
  },
  {
   "cell_type": "code",
   "execution_count": null,
   "metadata": {},
   "outputs": [],
   "source": [
    "tx_matrix = tx_grouped.unstack(level=1, fill_value=0)\n",
    "tx_matrix.columns = tx_matrix.columns.droplevel(0)\n",
    "tx_matrix"
   ]
  },
  {
   "cell_type": "code",
   "execution_count": null,
   "metadata": {},
   "outputs": [],
   "source": []
  }
 ],
 "metadata": {
  "kernelspec": {
   "display_name": "Python 3",
   "language": "python",
   "name": "python3"
  },
  "language_info": {
   "codemirror_mode": {
    "name": "ipython",
    "version": 3
   },
   "file_extension": ".py",
   "mimetype": "text/x-python",
   "name": "python",
   "nbconvert_exporter": "python",
   "pygments_lexer": "ipython3",
   "version": "3.6.3"
  }
 },
 "nbformat": 4,
 "nbformat_minor": 4
}
